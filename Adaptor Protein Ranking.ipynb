{
 "cells": [
  {
   "cell_type": "markdown",
   "metadata": {},
   "source": [
    "Functional glycoproteomics by integrated network assembly and partitioning <br>\n",
    "Griffin ME, Thompson JW, Xiao Y et al. <br>\n",
    "February 15, 2021\n",
    "\n",
    "This notebook calculates a score for each interactor based on how connected to OGT substrates it is in the network, the goal being to create an adaptor 'ranking' to find highly connected and likely important interactors."
   ]
  },
  {
   "cell_type": "code",
   "execution_count": null,
   "metadata": {},
   "outputs": [],
   "source": [
    "#import packages\n",
    "import re\n",
    "import pandas as pd\n",
    "import numpy as np\n",
    "import matplotlib\n",
    "import matplotlib.pyplot as plt\n",
    "\n",
    "#ignore warnings\n",
    "import warnings\n",
    "warnings.filterwarnings(\"ignore\")"
   ]
  },
  {
   "cell_type": "code",
   "execution_count": null,
   "metadata": {},
   "outputs": [],
   "source": [
    "#load in the networks for all tissues\n",
    "\n",
    "#set up lists for importing\n",
    "list_exp = ['293T', 'Brain', 'Liver', 'LiverBrain']\n",
    "\n",
    "#first import the protein-protein interaction networks\n",
    "for i in list_exp:\n",
    "    locals()['df{}'.format(i)] = pd.read_csv('PPINetwork{}F_ForCytoscape.csv'.format(i))\n",
    "    \n",
    "#make a new df and flip interactor A and B columns for convenience\n",
    "for i in list_exp:\n",
    "    locals()['fdf{}'.format(i)] = locals()['df{}'.format(i)].reindex(columns={'Interactor_B', 'Interactor_A'}).rename(\n",
    "    columns={'Interactor_B':'Interactor_A', 'Interactor_A':'Interactor_B'})\n",
    "\n",
    "    \n",
    "#import the substrates and interactor lists and merge them into the above dfs\n",
    "for i in list_exp:\n",
    "    locals()['dfsubs{}'.format(i)] = pd.read_csv('OGTSubs{}F_ForCytoscape.csv'.format(i))\n",
    "    locals()['dfints{}'.format(i)] = pd.read_csv('OGTInts{}F_ForCytoscape.csv'.format(i))\n",
    "    \n",
    "    #first original\n",
    "    locals()['df{}'.format(i)] = locals()['df{}'.format(i)].merge(\n",
    "        locals()['dfints{}'.format(i)], how='left', left_on='Interactor_B', right_on='Gene').drop('Gene', axis=1)\n",
    "    locals()['df{}'.format(i)] = locals()['df{}'.format(i)].merge(\n",
    "        locals()['dfsubs{}'.format(i)], how='left', left_on='Interactor_B', right_on='Gene').drop('Gene', axis=1)\n",
    "    \n",
    "    #then flipped\n",
    "    locals()['fdf{}'.format(i)] = locals()['fdf{}'.format(i)].merge(\n",
    "        locals()['dfints{}'.format(i)], how='left', left_on='Interactor_B', right_on='Gene').drop('Gene', axis=1)\n",
    "    locals()['fdf{}'.format(i)] = locals()['fdf{}'.format(i)].merge(\n",
    "        locals()['dfsubs{}'.format(i)], how='left', left_on='Interactor_B', right_on='Gene').drop('Gene', axis=1)   "
   ]
  },
  {
   "cell_type": "code",
   "execution_count": null,
   "metadata": {},
   "outputs": [],
   "source": [
    "#now calculate a score for each pair and make an adaptor rank df\n",
    "\n",
    "#interactions with substrates (regardless of if those substrates are also interactors) are given one point\n",
    "#interactors with interactors that are not substrates are given -0.5 points\n",
    "def score(df):\n",
    "    if df.OGT_Substrate == 1:\n",
    "        return 1\n",
    "    else:\n",
    "        return -0.5\n",
    "    \n",
    "#calculate the score for each df and drop all of the instances of self interactions and duplicates in the table\n",
    "for i in list_exp:\n",
    "    #first original\n",
    "    locals()['df{}'.format(i)]['Score'] = locals()['df{}'.format(i)].apply(score, axis=1)\n",
    "    #then flipped\n",
    "    locals()['fdf{}'.format(i)]['Score'] = locals()['fdf{}'.format(i)].apply(score, axis=1)\n",
    "\n",
    "#merge the two dataframes and drop all instances of self interactions and duplicates\n",
    "for i in list_exp:\n",
    "    locals()['dfar{}'.format(i)] = pd.concat([locals()['df{}'.format(i)], locals()['fdf{}'.format(i)]])\n",
    "    locals()['dfar{}'.format(i)] = locals()['dfar{}'.format(i)][\n",
    "        locals()['dfar{}'.format(i)].Interactor_A != locals()['dfar{}'.format(i)].Interactor_B]\n",
    "    locals()['dfar{}'.format(i)].drop_duplicates(subset=['Interactor_A','Interactor_B'], inplace=True)\n",
    "\n",
    "#group the df by interactor a to make an adaptor rank df  \n",
    "for i in list_exp:\n",
    "    locals()['dfarF_{}'.format(i)] = locals()['dfar{}'.format(i)].groupby(\n",
    "        'Interactor_A').Score.sum().reset_index().sort_values(by=['Score'], ascending=False)"
   ]
  },
  {
   "cell_type": "code",
   "execution_count": null,
   "metadata": {},
   "outputs": [],
   "source": [
    "#remove genes that are only substrates to make the final adaptor ranking list\n",
    "\n",
    "#first merge the df with the interactor list and then drop all nan from the interactor column (and drop added columns)\n",
    "for i in list_exp:\n",
    "    locals()['dfarfinal{}'.format(i)] = locals()['dfarF_{}'.format(i)].merge(\n",
    "        locals()['dfints{}'.format(i)], how='left', left_on='Interactor_A', right_on='Gene').dropna(\n",
    "        subset=['OGT_Interactor']).drop(['OGT_Interactor', 'Gene'], axis=1)\n",
    "    locals()['dfarfinal{}'.format(i)].drop_duplicates(subset=['Interactor_A'])"
   ]
  },
  {
   "cell_type": "code",
   "execution_count": null,
   "metadata": {},
   "outputs": [],
   "source": [
    "#export the final adaptor rank lists\n",
    "for i in list_exp:\n",
    "    locals()['dfarfinal{}'.format(i)].to_csv('AdaptorRankList_{}.csv'.format(i), index=False)"
   ]
  }
 ],
 "metadata": {
  "kernelspec": {
   "display_name": "Python 3",
   "language": "python",
   "name": "python3"
  },
  "language_info": {
   "codemirror_mode": {
    "name": "ipython",
    "version": 3
   },
   "file_extension": ".py",
   "mimetype": "text/x-python",
   "name": "python",
   "nbconvert_exporter": "python",
   "pygments_lexer": "ipython3",
   "version": "3.7.3"
  }
 },
 "nbformat": 4,
 "nbformat_minor": 4
}
